{
 "cells": [
  {
   "cell_type": "code",
   "execution_count": 19,
   "metadata": {},
   "outputs": [],
   "source": [
    "from faker import Faker\n",
    "from kafka import KafkaProducer\n",
    "from json import dumps\n",
    "from datetime import datetime, timezone, timedelta\n",
    "import time\n",
    "import os\n",
    "\n",
    "PATH_S3 = \"images_for_processing\"\n",
    "\n",
    "topic = \"imageForChecking\"\n",
    "bootstrap_servers = \"127.0.0.1:9092\"\n",
    "\n",
    "kafka_producer = KafkaProducer(\n",
    "    bootstrap_servers=bootstrap_servers,\n",
    "    value_serializer=lambda x: dumps(x).encode(\"utf-8\"),\n",
    ")"
   ]
  },
  {
   "cell_type": "code",
   "execution_count": 20,
   "metadata": {},
   "outputs": [],
   "source": [
    "class ImageProcessor:\n",
    "    def __init__(self, folder_path):\n",
    "        self.folder_path = folder_path\n",
    "        self.processed_files = set()\n",
    "\n",
    "    def get_list_new_images(self):\n",
    "        new_images = []\n",
    "        for file in os.listdir(self.folder_path):\n",
    "            if file.endswith(\".jpg\") or file.endswith(\".png\") or file.endswith(\".jpeg\"):  # Укажите нужные расширения файлов\n",
    "                full_path = os.path.join(self.folder_path, file)\n",
    "                if os.path.isfile(full_path) and full_path not in self.processed_files:\n",
    "                    new_images.append(full_path)\n",
    "        return new_images\n",
    "\n",
    "    def mark_as_processed(self, file_path):\n",
    "        self.processed_files.add(file_path)\n",
    "\n",
    "class ImageSender:\n",
    "    def __init__(self, folder_path, kafka_producer, topic):\n",
    "        self.image_processor = ImageProcessor(folder_path)\n",
    "        self.kafka_producer = kafka_producer\n",
    "        self.topic = topic\n",
    "        self.fake = Faker()\n",
    "\n",
    "    def send_images_to_kafka(self):\n",
    "        current_time = time.time()\n",
    "        list_files = self.image_processor.get_list_new_images()\n",
    "        if list_files:\n",
    "            for full_path in list_files:\n",
    "                data = {\n",
    "                    \"taskId\": str(self.fake.uuid4()),\n",
    "                    \"url\": full_path,\n",
    "                    \"timestamp_find_image\": current_time\n",
    "                }\n",
    "                self.kafka_producer.send(self.topic, value=data)\n",
    "                print(\"Sent data:\", data)\n",
    "                self.image_processor.mark_as_processed(full_path)\n",
    "\n"
   ]
  },
  {
   "cell_type": "code",
   "execution_count": 47,
   "metadata": {},
   "outputs": [
    {
     "name": "stdout",
     "output_type": "stream",
     "text": [
      "Sent data: {'taskId': 'cea4e6ae-6ede-4335-a78c-38e4388e316d', 'url': 'd:\\\\MAIN\\\\Для души (полезный контент)\\\\Дополнительное\\\\ml-diploma\\\\images_for_processing\\\\2aba8accc49f0318_jpg.rf.f4c9be7d920e096d5758dece5ce13c34.jpg', 'timestamp_find_image': 1710776123.9011474}\n",
      "Sent data: {'taskId': '590a0df1-8b6c-4046-8f41-1f5ede0716da', 'url': 'd:\\\\MAIN\\\\Для души (полезный контент)\\\\Дополнительное\\\\ml-diploma\\\\images_for_processing\\\\4c965b917f477943_jpg.rf.2170f806f83e3a63a2655138c7fd7a7f.jpg', 'timestamp_find_image': 1710776123.9011474}\n",
      "Sent data: {'taskId': '1ff41ee9-4980-46bb-a345-45193ffbac29', 'url': 'd:\\\\MAIN\\\\Для души (полезный контент)\\\\Дополнительное\\\\ml-diploma\\\\images_for_processing\\\\4d5bb651b8accaf1_jpg.rf.8e2c4e07ba804b07495749b10d946dba.jpg', 'timestamp_find_image': 1710776123.9011474}\n"
     ]
    },
    {
     "ename": "KeyboardInterrupt",
     "evalue": "",
     "output_type": "error",
     "traceback": [
      "\u001b[1;31m---------------------------------------------------------------------------\u001b[0m",
      "\u001b[1;31mKeyboardInterrupt\u001b[0m                         Traceback (most recent call last)",
      "Cell \u001b[1;32mIn[47], line 7\u001b[0m\n\u001b[0;32m      5\u001b[0m \u001b[38;5;28;01mwhile\u001b[39;00m \u001b[38;5;28;01mTrue\u001b[39;00m:\n\u001b[0;32m      6\u001b[0m     image_sender\u001b[38;5;241m.\u001b[39msend_images_to_kafka()\n\u001b[1;32m----> 7\u001b[0m     \u001b[43mtime\u001b[49m\u001b[38;5;241;43m.\u001b[39;49m\u001b[43msleep\u001b[49m\u001b[43m(\u001b[49m\u001b[38;5;241;43m5\u001b[39;49m\u001b[43m)\u001b[49m\n",
      "\u001b[1;31mKeyboardInterrupt\u001b[0m: "
     ]
    }
   ],
   "source": [
    "script_dir = os.getcwd()  # Получаем путь до текущего скрипта\n",
    "images_dir = os.path.join(script_dir, PATH_S3)  # Папка с изображениями полный путь\n",
    "image_sender = ImageSender(images_dir, kafka_producer, topic)\n",
    "\n",
    "while True:\n",
    "    image_sender.send_images_to_kafka()\n",
    "    time.sleep(5)"
   ]
  }
 ],
 "metadata": {
  "kernelspec": {
   "display_name": "WORK_311",
   "language": "python",
   "name": "python3"
  },
  "language_info": {
   "codemirror_mode": {
    "name": "ipython",
    "version": 3
   },
   "file_extension": ".py",
   "mimetype": "text/x-python",
   "name": "python",
   "nbconvert_exporter": "python",
   "pygments_lexer": "ipython3",
   "version": "3.10.13"
  }
 },
 "nbformat": 4,
 "nbformat_minor": 2
}
