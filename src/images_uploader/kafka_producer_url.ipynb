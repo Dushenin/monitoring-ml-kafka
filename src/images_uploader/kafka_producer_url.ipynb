{
 "cells": [
  {
   "cell_type": "code",
   "execution_count": 4,
   "metadata": {},
   "outputs": [
    {
     "name": "stdout",
     "output_type": "stream",
     "text": [
      "Directory 'images_for_processing' created successfully.\n"
     ]
    }
   ],
   "source": [
    "from faker import Faker\n",
    "from kafka import KafkaProducer\n",
    "from json import dumps\n",
    "from datetime import datetime, timezone, timedelta\n",
    "import time\n",
    "import os\n",
    "\n",
    "PATH_S3 = \"images_for_processing\"\n",
    "\n",
    "topic = \"imageForChecking\"\n",
    "bootstrap_servers = \"127.0.0.1:9092\"\n",
    "\n",
    "kafka_producer = KafkaProducer(\n",
    "    bootstrap_servers=bootstrap_servers,\n",
    "    value_serializer=lambda x: dumps(x).encode(\"utf-8\"),\n",
    ")\n",
    "\n",
    "# Check if the directory exists\n",
    "if not os.path.exists(PATH_S3):\n",
    "    # If it doesn't exist, create the directory\n",
    "    os.makedirs(PATH_S3)\n",
    "    print(f\"Directory '{PATH_S3}' created successfully.\")"
   ]
  },
  {
   "cell_type": "code",
   "execution_count": 5,
   "metadata": {},
   "outputs": [],
   "source": [
    "class ImageProcessor:\n",
    "    def __init__(self, folder_path):\n",
    "        self.folder_path = folder_path\n",
    "        self.processed_files = set()\n",
    "\n",
    "    def get_list_new_images(self):\n",
    "        new_images = []\n",
    "        for file in os.listdir(self.folder_path):\n",
    "            if file.endswith(\".jpg\") or file.endswith(\".png\") or file.endswith(\".jpeg\"):  # Укажите нужные расширения файлов\n",
    "                full_path = os.path.join(self.folder_path, file)\n",
    "                if os.path.isfile(full_path) and full_path not in self.processed_files:\n",
    "                    new_images.append(full_path)\n",
    "        return new_images\n",
    "\n",
    "    def mark_as_processed(self, file_path):\n",
    "        self.processed_files.add(file_path)\n",
    "\n",
    "class ImageSender:\n",
    "    def __init__(self, folder_path, kafka_producer, topic):\n",
    "        self.image_processor = ImageProcessor(folder_path)\n",
    "        self.kafka_producer = kafka_producer\n",
    "        self.topic = topic\n",
    "        self.fake = Faker()\n",
    "\n",
    "    def send_images_to_kafka(self):\n",
    "        current_time = time.time()\n",
    "        list_files = self.image_processor.get_list_new_images()\n",
    "        if list_files:\n",
    "            for full_path in list_files:\n",
    "                data = {\n",
    "                    \"taskId\": str(self.fake.uuid4()),\n",
    "                    \"url\": full_path,\n",
    "                    \"timestamp_find_image\": current_time\n",
    "                }\n",
    "                self.kafka_producer.send(self.topic, value=data)\n",
    "                print(\"Sent data:\", data)\n",
    "                self.image_processor.mark_as_processed(full_path)\n",
    "\n"
   ]
  },
  {
   "cell_type": "code",
   "execution_count": 6,
   "metadata": {},
   "outputs": [
    {
     "name": "stdout",
     "output_type": "stream",
     "text": [
      "Sent data: {'taskId': '64207e1d-e4d7-4bdb-9a2a-8a4fdb7c2b51', 'url': 'd:\\\\MAIN\\\\Для души (полезный контент)\\\\Дополнительное\\\\monitoring-ml-kafka\\\\src\\\\images_uploader\\\\images_for_processing\\\\3cd607199cd71ef1_jpg.rf.2136d8b7cf50b2460d81c11fbbbf17bd.jpg', 'timestamp_find_image': 1711472300.8887026}\n",
      "Sent data: {'taskId': 'a180283a-d02e-41fd-8993-51b9c8bdd92f', 'url': 'd:\\\\MAIN\\\\Для души (полезный контент)\\\\Дополнительное\\\\monitoring-ml-kafka\\\\src\\\\images_uploader\\\\images_for_processing\\\\68bc5c0153a80e6b_jpg.rf.780f25bb262f361531a3f2df74b390fb.jpg', 'timestamp_find_image': 1711472305.8919673}\n",
      "Sent data: {'taskId': '61607028-9833-46a4-83f7-d12a3d85d76f', 'url': 'd:\\\\MAIN\\\\Для души (полезный контент)\\\\Дополнительное\\\\monitoring-ml-kafka\\\\src\\\\images_uploader\\\\images_for_processing\\\\77a9609ed05f362a_jpg.rf.e8e520136d2f6fe9211c370073401e07.jpg', 'timestamp_find_image': 1711472305.8919673}\n"
     ]
    }
   ],
   "source": [
    "script_dir = os.getcwd()  # Получаем путь до текущего скрипта\n",
    "images_dir = os.path.join(script_dir, PATH_S3)  # Папка с изображениями полный путь\n",
    "image_sender = ImageSender(images_dir, kafka_producer, topic)\n",
    "\n",
    "while True:\n",
    "    image_sender.send_images_to_kafka()\n",
    "    time.sleep(5)"
   ]
  }
 ],
 "metadata": {
  "kernelspec": {
   "display_name": "WORK_311",
   "language": "python",
   "name": "python3"
  },
  "language_info": {
   "codemirror_mode": {
    "name": "ipython",
    "version": 3
   },
   "file_extension": ".py",
   "mimetype": "text/x-python",
   "name": "python",
   "nbconvert_exporter": "python",
   "pygments_lexer": "ipython3",
   "version": "3.10.13"
  }
 },
 "nbformat": 4,
 "nbformat_minor": 2
}
