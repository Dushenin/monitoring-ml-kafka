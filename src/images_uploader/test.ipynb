{
 "cells": [
  {
   "cell_type": "code",
   "execution_count": 2,
   "metadata": {},
   "outputs": [],
   "source": [
    "from minio import Minio\n",
    "import cv2\n",
    "import numpy as np\n",
    "import logging\n",
    "\n",
    "# Параметры Kafka сообщения\n",
    "kafka_message = {'taskId': '7fdf267a-93cb-4d59-8f61-f13ea707bdad', 'url': 'img.jpeg', 'bucket_s3': 'input-images', 'timestamp_find_image': 1711550869.4378788}\n",
    "\n",
    "logger = logging.getLogger(__name__)\n",
    "\n",
    "server_address = \"127.0.0.1:9006\"\n",
    "s3_access_key = \"s3_access_key\"\n",
    "s3_secret_key = \"s3_secret_key\"\n",
    "minio_client = Minio(\n",
    "    server_address,\n",
    "    access_key=s3_access_key,\n",
    "    secret_key=s3_secret_key,\n",
    "    secure=False,\n",
    ")\n",
    "\n",
    "# Имя бакета и путь к изображению внутри бакета\n",
    "bucket_name = kafka_message['bucket_s3']\n",
    "image_key = kafka_message['url']\n",
    "\n",
    "# Получаем объект изображения из s3\n",
    "try:\n",
    "    response = minio_client.get_object(bucket_name, image_key)\n",
    "    image_data = response.read()\n",
    "except:\n",
    "    logger.warning(f\"Downloading the image from S3 failed | {image_key}\")\n",
    "\n",
    "# Читаем изображение в формате OpenCV из полученных данных\n",
    "image = cv2.imdecode(np.frombuffer(image_data, np.uint8), cv2.IMREAD_COLOR)\n",
    "\n",
    "# Отображаем изображение\n",
    "cv2.imshow('Image from MinIO', image)\n",
    "cv2.waitKey(0)\n",
    "cv2.destroyAllWindows()\n"
   ]
  }
 ],
 "metadata": {
  "kernelspec": {
   "display_name": "ml-rodion",
   "language": "python",
   "name": "python3"
  },
  "language_info": {
   "codemirror_mode": {
    "name": "ipython",
    "version": 3
   },
   "file_extension": ".py",
   "mimetype": "text/x-python",
   "name": "python",
   "nbconvert_exporter": "python",
   "pygments_lexer": "ipython3",
   "version": "3.10.13"
  }
 },
 "nbformat": 4,
 "nbformat_minor": 2
}
